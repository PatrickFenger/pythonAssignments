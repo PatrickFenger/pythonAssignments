{
 "cells": [
  {
   "cell_type": "raw",
   "metadata": {},
   "source": []
  },
  {
   "cell_type": "code",
   "execution_count": null,
   "metadata": {
    "collapsed": true
   },
   "outputs": [],
   "source": []
  },
  {
   "cell_type": "code",
   "execution_count": null,
   "metadata": {
    "collapsed": true
   },
   "outputs": [],
   "source": []
  },
  {
   "cell_type": "code",
   "execution_count": null,
   "metadata": {
    "collapsed": true
   },
   "outputs": [],
   "source": []
  },
  {
   "cell_type": "code",
   "execution_count": 49,
   "metadata": {},
   "outputs": [
    {
     "data": {
      "image/png": "[encoded data removed]",
      "text/plain": [
       "<Figure size 432x288 with 1 Axes>"
      ]
     },
     "metadata": {},
     "output_type": "display_data"
    },
    {
     "name": "stdout",
     "output_type": "stream",
     "text": [
      "no\n",
      "red color value is : 50\n",
      "r in change color to pisctire  50\n",
      "[[ True  True  True ...,  True  True  True]\n",
      " [ True  True  True ...,  True  True  True]\n",
      " [ True  True  True ...,  True  True  True]\n",
      " ..., \n",
      " [ True  True  True ...,  True  True  True]\n",
      " [ True  True  True ...,  True  True  True]\n",
      " [ True  True  True ...,  True  True  True]]\n",
      "rgb farver:  50 0 0\n",
      "Do you see the color red?\n",
      "no\n",
      "red color value is : 150\n",
      "r in change color to pisctire  150\n",
      "[[ True  True  True ...,  True  True  True]\n",
      " [ True  True  True ...,  True  True  True]\n",
      " [ True  True  True ...,  True  True  True]\n",
      " ..., \n",
      " [ True  True  True ...,  True  True  True]\n",
      " [ True  True  True ...,  True  True  True]\n",
      " [ True  True  True ...,  True  True  True]]\n",
      "rgb farver:  150 0 0\n",
      "Do you see the color red?\n",
      "no\n",
      "red color value is : 250\n",
      "r in change color to pisctire  250\n",
      "[[ True  True  True ...,  True  True  True]\n",
      " [ True  True  True ...,  True  True  True]\n",
      " [ True  True  True ...,  True  True  True]\n",
      " ..., \n",
      " [ True  True  True ...,  True  True  True]\n",
      " [ True  True  True ...,  True  True  True]\n",
      " [ True  True  True ...,  True  True  True]]\n",
      "rgb farver:  250 0 0\n",
      "Do you see the color red?\n",
      "yes\n"
     ]
    }
   ],
   "source": [
    "### import ipywidgets as widgets\n",
    "from IPython.display import display\n",
    "from IPython.html.widgets import interact\n",
    "from random import randint\n",
    "import matplotlib.pyplot as plt\n",
    "import numpy as np\n",
    "import nbformat as nbf\n",
    "from PIL import Image\n",
    "from nbconvert.preprocessors import ExecutePreprocessor\n",
    "import numpy as np\n",
    "import cv2\n",
    "\n",
    "def calculateColor():\n",
    "    mydict = [(i,0,0) for i in range(50,200,20)]\n",
    "    return mydict\n",
    "        \n",
    "        #{key: value for (key, value) in iterable}\n",
    "def displayColor(r,g,b):\n",
    "    plt.imshow([[(r, g, b)]])\n",
    "    plt.show()  \n",
    "\n",
    "def create_nootebook():\n",
    "    # this code creates a notebook\n",
    "        nb = nbf.v4.new_notebook()\n",
    "        text = \"\"\"\\\n",
    "        # My first automatic Jupyter Notebook\n",
    "        This is an auto-generated notebook.\"\"\"\n",
    "\n",
    "        code = \"\"\"\\\n",
    "        %pylab inline\n",
    "        print(\"hallo\");\"\"\"\n",
    "        # here we insert text and code into the notebooks cell\n",
    "        nb['cells'] = [nbf.v4.new_markdown_cell(text), nbf.v4.new_code_cell(code) ]\n",
    "        #we write the notebook to the computer.\n",
    "        nbf.write(nb, './test.ipynb')\n",
    "        \n",
    "def get_code_from_notebook():\n",
    "    #we read the notebook from the computer\n",
    "        nb = nbf.read('./test.ipynb', as_version=4)\n",
    "        #Use jupyter kernelspec list to find out what the kernel is called on your system\n",
    "        ep_python = ExecutePreprocessor(timeout=600, kernel_name='python3')\n",
    "        path =  '/Users/pravien/Documents/CPH-Business/4_Semester/Python/Assignments/pythonAssignments/Project'\n",
    "        # path specifies which folder to execute the notebooks in, so set it to the one that you need so your file path references are correct\n",
    "        foo = ep_python.preprocess(nb,{'metadata': {'path': path}})\n",
    "        #print(foo) \n",
    "        #print(dict(foo[0]).values())\n",
    "        #Here i loop through the values of the keys in the cell to find the code there is in the cell\n",
    "        for values in dict(foo[0]).values():\n",
    "            if(not isinstance( values, int )):\n",
    "                for i in values:\n",
    "                    if( '%pylab' in i['source']):\n",
    "                        print(i['source']) \n",
    "#r,g,b =  calculateColor()[9]\n",
    "\n",
    "def change_color_in_picture(img,r,g,b):\n",
    "    print(\"r in change color to pisctire \",r)\n",
    "    mask = (img[:,:,0] >0) & (img[:,:,1] >0) & (img[:,:,2] > 0)\n",
    "    print(mask)\n",
    "    #green_lower = np.array([0, 0, 0])\n",
    "    #green_upper = np.array([255, 120, 120])\n",
    "    #mask = cv2.inRange(image, green_lower,green_upper)\n",
    "    #Change the color on the picture where the mask is fufilled to the r,g,b value\n",
    "    #if color != 0:\n",
    "    #    img[mask] = np.array([0, 0, 0])\n",
    "    #else:\n",
    "    #     img[mask] = np.array([255, 255, 255])\n",
    "    print(\"rgb farver: \",r,g,b)\n",
    "    img[mask] = np.array([r,g,b])\n",
    "    image_ = cv2.cvtColor(img, cv2.COLOR_BGR2RGB)\n",
    "    cv2.imwrite(\"picture\"+str(r)+\".png\",image_)\n",
    "    return image_\n",
    "\n",
    "def display_pictures(r,g,b):\n",
    "    # read the picture\n",
    "    \n",
    "    image = cv2.imread('./test.png')\n",
    "    # converts it from BGR 2 RGB\n",
    "    image = cv2.cvtColor(image, cv2.COLOR_BGR2RGB)\n",
    "    #Create a mask\n",
    "    #mask = (image[:,:,0] > r) & (image[:,:,1] > g) & (image[:,:,2] > b)\n",
    "    #green_lower = np.array([0, 0, 0])\n",
    "    #green_upper = np.array([255, 120, 120])\n",
    "    #mask = cv2.inRange(image, green_lower,green_upper)\n",
    "    #Change the color on the picture where the mask is fufilled to the r,g,b value\n",
    "    #image[mask] = np.array([r, g, b])\n",
    "    while(True):\n",
    "        print(\"red color value is :\",r)\n",
    "        #plt.imshow(change_color_in_picture(temp,rand), interpolation='None')\n",
    "        #plt.show()\n",
    "        \n",
    "        change_color_in_picture(cv2.cvtColor(cv2.imread('./test.png'), cv2.COLOR_BGR2RGB),r,g,b)\n",
    "        print('Do you see the color red?')\n",
    "        a = input()\n",
    "        \n",
    "        if (a.upper() == \"NO\" and r+100 <255):\n",
    "            r+=100\n",
    "        else :\n",
    "            break \n",
    "\n",
    "\n",
    "\n",
    "calccolors = calculateColor()\n",
    "for r,g,b in calccolors:\n",
    "    code = \"\"\"\\\n",
    "        print(\"hallo\");\"\"\"\n",
    "    nbf.v4.new_code_cell(source=[code])\n",
    "    #nbf.v4.output_from_msg(5)\n",
    "    displayColor(r,g,b)\n",
    "    a = input()\n",
    "   \n",
    "    #test = np.asarray(destRGB)  \n",
    "    if (a.upper() == \"NO\"):\n",
    "        #print(r,g,b)\n",
    "        display_pictures(r,g,b)\n",
    "        break\n",
    "        #cv2.imshow('Wallpaper-2.jpg',img)\n",
    "        #cv2.waitKey(0)\n",
    "        #cv2.destroyAllWindows()\n",
    "        #Image('/Users/pravien/Documents/CPH-Business/4_Semester/Python/Assignments/pythonAssignments/Project/Wallpaper-2.jpg')\n",
    "        #plt.imshow(img)\n",
    "        #plt.show()\n",
    "        #break\n",
    "        \n",
    "\n",
    "  "
   ]
  },
  {
   "cell_type": "code",
   "execution_count": null,
   "metadata": {
    "collapsed": true
   },
   "outputs": [],
   "source": []
  },
  {
   "cell_type": "code",
   "execution_count": null,
   "metadata": {
    "collapsed": true
   },
   "outputs": [],
   "source": []
  },
  {
   "cell_type": "code",
   "execution_count": null,
   "metadata": {
    "collapsed": true
   },
   "outputs": [],
   "source": [
    " "
   ]
  },
  {
   "cell_type": "code",
   "execution_count": null,
   "metadata": {
    "collapsed": true
   },
   "outputs": [],
   "source": []
  },
  {
   "cell_type": "code",
   "execution_count": null,
   "metadata": {
    "collapsed": true
   },
   "outputs": [],
   "source": []
  },
  {
   "cell_type": "code",
   "execution_count": null,
   "metadata": {
    "collapsed": true
   },
   "outputs": [],
   "source": []
  },
  {
   "cell_type": "code",
   "execution_count": null,
   "metadata": {
    "collapsed": true
   },
   "outputs": [],
   "source": []
  }
 ],
 "metadata": {
  "kernelspec": {
   "display_name": "Python 3",
   "language": "python",
   "name": "python3"
  },
  "language_info": {
   "codemirror_mode": {
    "name": "ipython",
    "version": 3
   },
   "file_extension": ".py",
   "mimetype": "text/x-python",
   "name": "python",
   "nbconvert_exporter": "python",
   "pygments_lexer": "ipython3",
   "version": "3.6.3"
  }
 },
 "nbformat": 4,
 "nbformat_minor": 2
}
