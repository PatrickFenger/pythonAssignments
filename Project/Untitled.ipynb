{
 "cells": [
  {
   "cell_type": "code",
   "execution_count": null,
   "metadata": {},
   "outputs": [
    {
     "name": "stderr",
     "output_type": "stream",
     "text": [
      "C:\\Users\\Lodahl\\anaconda3\\lib\\site-packages\\IPython\\html.py:14: ShimWarning: The `IPython.html` package has been deprecated since IPython 4.0. You should import from `notebook` instead. `IPython.html.widgets` has moved to `ipywidgets`.\n",
      "  \"`IPython.html.widgets` has moved to `ipywidgets`.\", ShimWarning)\n"
     ]
    },
    {
     "data": {
      "text/plain": [
       "<matplotlib.figure.Figure at 0x25197841e10>"
      ]
     },
     "metadata": {},
     "output_type": "display_data"
    },
    {
     "name": "stdout",
     "output_type": "stream",
     "text": [
      "Do you see the color red?\n",
      "Type yes or no\n"
     ]
    }
   ],
   "source": [
    "### import ipywidgets as widgets\n",
    "from IPython.display import display\n",
    "from IPython.html.widgets import interact\n",
    "from random import randint\n",
    "import matplotlib.pyplot as plt\n",
    "import numpy as np\n",
    "import nbformat as nbf\n",
    "from nbconvert.preprocessors import ExecutePreprocessor\n",
    "import numpy as np\n",
    "import cv2\n",
    "\n",
    "def calculateColor():\n",
    "    my_list = [(i,0,0) for i in range(200,50,-20)]\n",
    "    return my_list\n",
    "        \n",
    "#{key: value for (key, value) in iterable}\n",
    "def displayColor(r,g,b):\n",
    "    plt.imshow([[(r, g, b)]])\n",
    "    plt.show()  \n",
    "\n",
    "def create_nootebook():\n",
    "    # this code creates a notebook\n",
    "        nb = nbf.v4.new_notebook()\n",
    "        text = \"\"\"\\\n",
    "        # My first automatic Jupyter Notebook\n",
    "        This is an auto-generated notebook.\"\"\"\n",
    "\n",
    "        code = \"\"\"\\\n",
    "        %pylab inline\n",
    "        print(\"hallo\");\"\"\"\n",
    "        # here we insert text and code into the notebooks cell\n",
    "        nb['cells'] = [nbf.v4.new_markdown_cell(text), nbf.v4.new_code_cell(code) ]\n",
    "        #we write the notebook to the computer.\n",
    "        nbf.write(nb, './test.ipynb')\n",
    "        \n",
    "def get_code_from_notebook():\n",
    "    #we read the notebook from the computer\n",
    "        nb = nbf.read('./test.ipynb', as_version=4)\n",
    "        #Use jupyter kernelspec list to find out what the kernel is called on your system\n",
    "        ep_python = ExecutePreprocessor(timeout=600, kernel_name='python3')\n",
    "        path =  '/Users/pravien/Documents/CPH-Business/4_Semester/Python/Assignments/pythonAssignments/Project'\n",
    "        # path specifies which folder to execute the notebooks in, so set it to the one that you need so your file path references are correct\n",
    "        foo = ep_python.preprocess(nb,{'metadata': {'path': path}})\n",
    "        #print(foo) \n",
    "        #print(dict(foo[0]).values())\n",
    "        #Here i loop through the values of the keys in the cell to find the code there is in the cell\n",
    "        for values in dict(foo[0]).values():\n",
    "            if(not isinstance( values, int )):\n",
    "                for i in values:\n",
    "                    if( '%pylab' in i['source']):\n",
    "                        print(i['source']) \n",
    "\n",
    "\n",
    "def change_color_in_picture(img,r,g,b):\n",
    "    #Here we choose which colors should be changed, for right now we have a fixed value\n",
    "    #But this might need to be changed to some paramets so we will be able to tweak the mask\n",
    "    mask = (img[:,:,0] >40) & (img[:,:,1] <=70) & (img[:,:,2] <= 70)\n",
    "    #We apply the mask and change the colors to the desired RGB color\n",
    "    img[mask] = np.array([r,g,b])\n",
    "    #cv2.imwrite(\"picture\"+str(r)+\".png\",image_)\n",
    "    return cv2.cvtColor(img, cv2.COLOR_BGR2RGB)\n",
    "\n",
    "def display_pictures(r,g,b):\n",
    "    # read the picture\n",
    "    picture_name = './test2.2.png'\n",
    "    image = cv2.imread(picture_name)\n",
    "    # converts it from BGR 2 RGB\n",
    "    image = cv2.cvtColor(image, cv2.COLOR_BGR2RGB)\n",
    "    while(True):\n",
    "        pic = change_color_in_picture(cv2.cvtColor(cv2.imread(picture_name), cv2.COLOR_BGR2RGB),r,g,b)\n",
    "        plt.imshow(cv2.cvtColor(pic ,cv2.COLOR_BGR2RGB), interpolation='None')\n",
    "        plt.show()\n",
    "        print('Do you see the color red in this picture?')\n",
    "        print('Type yes or no')\n",
    "        a = input()\n",
    "        \n",
    "        if (a.upper() == \"NO\" and r+10 <=255):\n",
    "            r+=5\n",
    "        else :\n",
    "            print(\"The best suited Red rgb value is : \",r,0,0)\n",
    "            break \n",
    "            \n",
    "\n",
    "    \n",
    "\n",
    "            \n",
    "            \n",
    "if __name__ == \"__main__\":\n",
    "    \n",
    "    #calccolors = calculateColor()\n",
    "    for r,g,b in calculateColor():\n",
    "        displayColor(r,g,b)\n",
    "        print('Do you see the color red?')\n",
    "        print('Type yes or no')\n",
    "        a = input()\n",
    "   \n",
    "        #test = np.asarray(destRGB)  \n",
    "        if (a.upper() == \"NO\"):\n",
    "            #print(r,g,b)\n",
    "            display_pictures(r,g,b)\n",
    "            break\n",
    "        \n",
    "\n",
    "  "
   ]
  },
  {
   "cell_type": "code",
   "execution_count": null,
   "metadata": {
    "collapsed": true
   },
   "outputs": [],
   "source": []
  }
 ],
 "metadata": {
  "kernelspec": {
   "display_name": "Python 3",
   "language": "python",
   "name": "python3"
  },
  "language_info": {
   "codemirror_mode": {
    "name": "ipython",
    "version": 3
   },
   "file_extension": ".py",
   "mimetype": "text/x-python",
   "name": "python",
   "nbconvert_exporter": "python",
   "pygments_lexer": "ipython3",
   "version": "3.6.4"
  }
 },
 "nbformat": 4,
 "nbformat_minor": 2
}
